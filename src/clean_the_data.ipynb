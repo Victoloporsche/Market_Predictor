{
 "cells": [
  {
   "cell_type": "code",
   "execution_count": 1,
   "metadata": {},
   "outputs": [],
   "source": [
    "import pandas as pd\n",
    "import numpy as np"
   ]
  },
  {
   "cell_type": "code",
   "execution_count": 2,
   "metadata": {},
   "outputs": [],
   "source": [
    "train = pd.read_csv(\"../input/train.csv\", chunksize=100000)\n",
    "\n",
    "train_chunk_list = []  \n",
    "\n",
    "for data_chunk in train:  \n",
    "    sample_data_in_chunk = data_chunk.sample(frac=0.05, replace=True, random_state=1)\n",
    "    train_chunk_list.append(sample_data_in_chunk)\n",
    "    \n",
    "train_data = pd.concat(train_chunk_list)\n",
    "test_data =  pd.read_csv(\"../input/example_test.csv\")"
   ]
  },
  {
   "cell_type": "code",
   "execution_count": 3,
   "metadata": {},
   "outputs": [
    {
     "data": {
      "text/html": [
       "<div>\n",
       "<style scoped>\n",
       "    .dataframe tbody tr th:only-of-type {\n",
       "        vertical-align: middle;\n",
       "    }\n",
       "\n",
       "    .dataframe tbody tr th {\n",
       "        vertical-align: top;\n",
       "    }\n",
       "\n",
       "    .dataframe thead th {\n",
       "        text-align: right;\n",
       "    }\n",
       "</style>\n",
       "<table border=\"1\" class=\"dataframe\">\n",
       "  <thead>\n",
       "    <tr style=\"text-align: right;\">\n",
       "      <th></th>\n",
       "      <th>date</th>\n",
       "      <th>weight</th>\n",
       "      <th>resp_1</th>\n",
       "      <th>resp_2</th>\n",
       "      <th>resp_3</th>\n",
       "      <th>resp_4</th>\n",
       "      <th>resp</th>\n",
       "      <th>feature_0</th>\n",
       "      <th>feature_1</th>\n",
       "      <th>feature_2</th>\n",
       "      <th>...</th>\n",
       "      <th>feature_121</th>\n",
       "      <th>feature_122</th>\n",
       "      <th>feature_123</th>\n",
       "      <th>feature_124</th>\n",
       "      <th>feature_125</th>\n",
       "      <th>feature_126</th>\n",
       "      <th>feature_127</th>\n",
       "      <th>feature_128</th>\n",
       "      <th>feature_129</th>\n",
       "      <th>ts_id</th>\n",
       "    </tr>\n",
       "  </thead>\n",
       "  <tbody>\n",
       "    <tr>\n",
       "      <th>98539</th>\n",
       "      <td>16</td>\n",
       "      <td>0.091721</td>\n",
       "      <td>-0.003972</td>\n",
       "      <td>-0.006828</td>\n",
       "      <td>-0.009258</td>\n",
       "      <td>-0.015301</td>\n",
       "      <td>-0.014156</td>\n",
       "      <td>-1</td>\n",
       "      <td>-3.172026</td>\n",
       "      <td>-3.093182</td>\n",
       "      <td>...</td>\n",
       "      <td>-0.643276</td>\n",
       "      <td>-0.740097</td>\n",
       "      <td>-0.632161</td>\n",
       "      <td>-0.627341</td>\n",
       "      <td>-0.861203</td>\n",
       "      <td>-0.84956</td>\n",
       "      <td>-0.41783</td>\n",
       "      <td>-0.692193</td>\n",
       "      <td>-0.263673</td>\n",
       "      <td>98539</td>\n",
       "    </tr>\n",
       "    <tr>\n",
       "      <th>77708</th>\n",
       "      <td>12</td>\n",
       "      <td>0.000000</td>\n",
       "      <td>0.006870</td>\n",
       "      <td>0.008509</td>\n",
       "      <td>0.007006</td>\n",
       "      <td>0.017727</td>\n",
       "      <td>0.025361</td>\n",
       "      <td>1</td>\n",
       "      <td>-1.378297</td>\n",
       "      <td>-2.075052</td>\n",
       "      <td>...</td>\n",
       "      <td>11.504593</td>\n",
       "      <td>2.082452</td>\n",
       "      <td>4.158642</td>\n",
       "      <td>3.866779</td>\n",
       "      <td>9.822992</td>\n",
       "      <td>3.13497</td>\n",
       "      <td>5.12643</td>\n",
       "      <td>2.425168</td>\n",
       "      <td>4.145903</td>\n",
       "      <td>77708</td>\n",
       "    </tr>\n",
       "  </tbody>\n",
       "</table>\n",
       "<p>2 rows × 138 columns</p>\n",
       "</div>"
      ],
      "text/plain": [
       "       date    weight    resp_1    resp_2    resp_3    resp_4      resp  \\\n",
       "98539    16  0.091721 -0.003972 -0.006828 -0.009258 -0.015301 -0.014156   \n",
       "77708    12  0.000000  0.006870  0.008509  0.007006  0.017727  0.025361   \n",
       "\n",
       "       feature_0  feature_1  feature_2  ...  feature_121  feature_122  \\\n",
       "98539         -1  -3.172026  -3.093182  ...    -0.643276    -0.740097   \n",
       "77708          1  -1.378297  -2.075052  ...    11.504593     2.082452   \n",
       "\n",
       "       feature_123  feature_124  feature_125  feature_126  feature_127  \\\n",
       "98539    -0.632161    -0.627341    -0.861203     -0.84956     -0.41783   \n",
       "77708     4.158642     3.866779     9.822992      3.13497      5.12643   \n",
       "\n",
       "       feature_128  feature_129  ts_id  \n",
       "98539    -0.692193    -0.263673  98539  \n",
       "77708     2.425168     4.145903  77708  \n",
       "\n",
       "[2 rows x 138 columns]"
      ]
     },
     "execution_count": 3,
     "metadata": {},
     "output_type": "execute_result"
    }
   ],
   "source": [
    "train_data.head(2)"
   ]
  },
  {
   "cell_type": "code",
   "execution_count": 4,
   "metadata": {},
   "outputs": [],
   "source": [
    "train_data = train_data[train_data['weight']!=0]"
   ]
  },
  {
   "cell_type": "code",
   "execution_count": 5,
   "metadata": {},
   "outputs": [],
   "source": [
    "train_data['action'] = train_data['resp'].apply(lambda x:x>0).astype(int)"
   ]
  },
  {
   "cell_type": "code",
   "execution_count": 6,
   "metadata": {},
   "outputs": [],
   "source": [
    "selected_columns_train = [col for col in list(train_data.columns) if 'feature' in col or\n",
    "                        'action' in col or 'ts_id' in col]"
   ]
  },
  {
   "cell_type": "code",
   "execution_count": 7,
   "metadata": {},
   "outputs": [],
   "source": [
    "train_data = train_data[selected_columns_train]"
   ]
  },
  {
   "cell_type": "code",
   "execution_count": 8,
   "metadata": {},
   "outputs": [],
   "source": [
    "features_with_na = [feature for feature in train_data.columns if train_data[feature].isna().sum()>0]"
   ]
  },
  {
   "cell_type": "code",
   "execution_count": 9,
   "metadata": {},
   "outputs": [],
   "source": [
    "train_data[features_with_na] = train_data[features_with_na].fillna(train_data[features_with_na].mean())"
   ]
  },
  {
   "cell_type": "code",
   "execution_count": 10,
   "metadata": {},
   "outputs": [],
   "source": [
    "selected_columns_test =  [col for col in list(train_data.columns) if 'feature' in col or 'ts_id' in col]"
   ]
  },
  {
   "cell_type": "code",
   "execution_count": 11,
   "metadata": {},
   "outputs": [],
   "source": [
    "test_data = test_data[selected_columns_test]"
   ]
  },
  {
   "cell_type": "code",
   "execution_count": 12,
   "metadata": {},
   "outputs": [],
   "source": [
    "features_with_na_test = [feature for feature in test_data.columns if test_data[feature].isna().sum()>0]"
   ]
  },
  {
   "cell_type": "code",
   "execution_count": 13,
   "metadata": {},
   "outputs": [],
   "source": [
    "test_data[features_with_na_test] = test_data[features_with_na_test].fillna(test_data[features_with_na_test].mean())"
   ]
  },
  {
   "cell_type": "code",
   "execution_count": 14,
   "metadata": {},
   "outputs": [],
   "source": [
    "train_data.to_csv('../output/cleaned_train_data.csv', index=None)\n",
    "test_data.to_csv('../output/cleaned_test_data.csv', index=None)"
   ]
  },
  {
   "cell_type": "code",
   "execution_count": null,
   "metadata": {},
   "outputs": [],
   "source": []
  }
 ],
 "metadata": {
  "kernelspec": {
   "display_name": "Python 3",
   "language": "python",
   "name": "python3"
  },
  "language_info": {
   "codemirror_mode": {
    "name": "ipython",
    "version": 3
   },
   "file_extension": ".py",
   "mimetype": "text/x-python",
   "name": "python",
   "nbconvert_exporter": "python",
   "pygments_lexer": "ipython3",
   "version": "3.6.5"
  }
 },
 "nbformat": 4,
 "nbformat_minor": 4
}
